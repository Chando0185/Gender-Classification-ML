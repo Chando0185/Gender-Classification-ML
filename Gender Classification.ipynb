{
 "cells": [
  {
   "cell_type": "code",
   "execution_count": 54,
   "metadata": {},
   "outputs": [
    {
     "name": "stdout",
     "output_type": "stream",
     "text": [
      "{'man': 0, 'women': 1}\n",
      "['man', 'women']\n",
      "[0, 1]\n"
     ]
    }
   ],
   "source": [
    "import cv2\n",
    "import os\n",
    "\n",
    "data_path='Datasets'\n",
    "categories=os.listdir(data_path)\n",
    "labels=[i for i in range(len(categories))]\n",
    "\n",
    "label_dict=dict(zip(categories,labels))\n",
    "\n",
    "print(label_dict)\n",
    "print(categories)\n",
    "print(labels)"
   ]
  },
  {
   "cell_type": "code",
   "execution_count": 55,
   "metadata": {},
   "outputs": [],
   "source": [
    "img_size=32\n",
    "data=[]\n",
    "target=[]\n",
    "\n",
    "facedata = \"haarcascade_frontalface_default.xml\"\n",
    "cascade = cv2.CascadeClassifier(facedata)\n",
    "\n",
    "\n",
    "for category in categories:\n",
    "    folder_path=os.path.join(data_path,category)\n",
    "    img_names=os.listdir(folder_path)\n",
    "        \n",
    "    for img_name in img_names:\n",
    "        img_path=os.path.join(folder_path,img_name)\n",
    "        img=cv2.imread(img_path)\n",
    "        faces = cascade.detectMultiScale(img)\n",
    "        try:\n",
    "            for f in faces:\n",
    "                x, y, w, h = [v for v in f]\n",
    "                sub_face = img[y:y + h, x:x + w]\n",
    "                gray=cv2.cvtColor(sub_face,cv2.COLOR_BGR2GRAY)           \n",
    "                resized=cv2.resize(gray,(img_size,img_size))\n",
    "                data.append(resized)\n",
    "                target.append(label_dict[category])\n",
    "        except Exception as e:\n",
    "            print('Exception:',e)"
   ]
  },
  {
   "cell_type": "code",
   "execution_count": 56,
   "metadata": {},
   "outputs": [],
   "source": [
    "import numpy as np\n",
    "import warnings\n",
    "warnings.filterwarnings('ignore')\n",
    "data=np.array(data)/255.0\n",
    "data=np.reshape(data,(data.shape[0],img_size,img_size,1))\n",
    "target=np.array(target)\n",
    "\n",
    "from keras.utils import np_utils\n",
    "\n",
    "new_target=np_utils.to_categorical(target)\n",
    "\n",
    "np.save('./training/data',data)\n",
    "np.save('./training/target',new_target)\n",
    "\n"
   ]
  },
  {
   "cell_type": "code",
   "execution_count": 57,
   "metadata": {},
   "outputs": [],
   "source": [
    "import numpy as np\n",
    "\n",
    "data=np.load('./training/data.npy')\n",
    "target=np.load('./training/target.npy')"
   ]
  },
  {
   "cell_type": "code",
   "execution_count": 58,
   "metadata": {},
   "outputs": [],
   "source": [
    "from keras.models import Sequential\n",
    "from keras.layers import Dense,Activation,Flatten,Dropout\n",
    "from keras.layers import Conv2D,MaxPooling2D\n",
    "from keras.callbacks import ModelCheckpoint\n",
    "\n",
    "\n",
    "noOfFilters=64\n",
    "sizeOfFilter1=(3,3)\n",
    "sizeOfFilter2=(3,3)\n",
    "sizeOfPool=(2,2)\n",
    "noOfNode=64\n",
    "\n",
    "\n",
    "\n",
    "model=Sequential()\n",
    "model.add((Conv2D(32, sizeOfFilter1, input_shape=data.shape[1:],activation='relu')))\n",
    "model.add((Conv2D(32, sizeOfFilter1,activation='relu')))\n",
    "model.add(MaxPooling2D(pool_size=sizeOfPool))\n",
    "\n",
    "model.add((Conv2D(64, sizeOfFilter2,activation='relu')))\n",
    "model.add((Conv2D(64, sizeOfFilter2,activation='relu')))\n",
    "model.add(MaxPooling2D(pool_size=sizeOfPool))\n",
    "model.add(Dropout(0.5))\n",
    "\n",
    "\n",
    "model.add(Flatten())\n",
    "model.add(Dense(noOfNode, activation='relu'))\n",
    "model.add(Dropout(0.5))\n",
    "model.add(Dense(2, activation='softmax'))\n",
    "\n",
    "\n",
    "model.compile(loss='categorical_crossentropy',optimizer='adam',metrics=['accuracy'])"
   ]
  },
  {
   "cell_type": "code",
   "execution_count": 59,
   "metadata": {},
   "outputs": [],
   "source": [
    "from sklearn.model_selection import train_test_split\n",
    "\n",
    "train_data,test_data,train_target,test_target=train_test_split(data,target,test_size=0.1)"
   ]
  },
  {
   "cell_type": "code",
   "execution_count": 60,
   "metadata": {},
   "outputs": [
    {
     "name": "stdout",
     "output_type": "stream",
     "text": [
      "Train on 588 samples, validate on 148 samples\n",
      "Epoch 1/20\n",
      "588/588 [==============================] - 7s 12ms/step - loss: 0.6968 - acc: 0.5153 - val_loss: 0.6927 - val_acc: 0.5608\n",
      "Epoch 2/20\n",
      "588/588 [==============================] - 5s 8ms/step - loss: 0.6963 - acc: 0.5017 - val_loss: 0.6862 - val_acc: 0.6014\n",
      "Epoch 3/20\n",
      "588/588 [==============================] - 5s 8ms/step - loss: 0.6933 - acc: 0.5153 - val_loss: 0.6848 - val_acc: 0.6014\n",
      "Epoch 4/20\n",
      "588/588 [==============================] - 5s 8ms/step - loss: 0.6908 - acc: 0.5272 - val_loss: 0.6819 - val_acc: 0.6014\n",
      "Epoch 5/20\n",
      "588/588 [==============================] - 5s 8ms/step - loss: 0.6857 - acc: 0.5748 - val_loss: 0.6799 - val_acc: 0.6689\n",
      "Epoch 6/20\n",
      "588/588 [==============================] - 5s 8ms/step - loss: 0.6716 - acc: 0.6259 - val_loss: 0.6669 - val_acc: 0.6284\n",
      "Epoch 7/20\n",
      "588/588 [==============================] - 5s 8ms/step - loss: 0.6521 - acc: 0.6412 - val_loss: 0.6064 - val_acc: 0.7365\n",
      "Epoch 8/20\n",
      "588/588 [==============================] - 5s 8ms/step - loss: 0.5769 - acc: 0.7092 - val_loss: 0.5580 - val_acc: 0.7500\n",
      "Epoch 9/20\n",
      "588/588 [==============================] - 5s 8ms/step - loss: 0.5529 - acc: 0.7364 - val_loss: 0.5702 - val_acc: 0.7635\n",
      "Epoch 10/20\n",
      "588/588 [==============================] - 5s 9ms/step - loss: 0.4996 - acc: 0.7687 - val_loss: 0.5300 - val_acc: 0.7838\n",
      "Epoch 11/20\n",
      "588/588 [==============================] - 5s 8ms/step - loss: 0.4896 - acc: 0.7772 - val_loss: 0.4888 - val_acc: 0.7973\n",
      "Epoch 12/20\n",
      "588/588 [==============================] - 5s 8ms/step - loss: 0.4897 - acc: 0.7823 - val_loss: 0.5192 - val_acc: 0.7838\n",
      "Epoch 13/20\n",
      "588/588 [==============================] - 5s 8ms/step - loss: 0.4003 - acc: 0.8452 - val_loss: 0.4294 - val_acc: 0.8041\n",
      "Epoch 14/20\n",
      "588/588 [==============================] - 5s 9ms/step - loss: 0.3404 - acc: 0.8503 - val_loss: 0.4088 - val_acc: 0.8108\n",
      "Epoch 15/20\n",
      "588/588 [==============================] - 5s 9ms/step - loss: 0.3138 - acc: 0.8741 - val_loss: 0.4097 - val_acc: 0.8311\n",
      "Epoch 16/20\n",
      "588/588 [==============================] - 6s 10ms/step - loss: 0.3623 - acc: 0.8452 - val_loss: 0.4220 - val_acc: 0.8311\n",
      "Epoch 17/20\n",
      "588/588 [==============================] - 5s 9ms/step - loss: 0.2918 - acc: 0.8810 - val_loss: 0.4104 - val_acc: 0.8514\n",
      "Epoch 18/20\n",
      "588/588 [==============================] - 5s 8ms/step - loss: 0.2445 - acc: 0.8980 - val_loss: 0.4088 - val_acc: 0.8514\n",
      "Epoch 19/20\n",
      "588/588 [==============================] - 5s 9ms/step - loss: 0.2422 - acc: 0.8963 - val_loss: 0.4510 - val_acc: 0.8514\n",
      "Epoch 20/20\n",
      "588/588 [==============================] - 5s 8ms/step - loss: 0.2253 - acc: 0.9065 - val_loss: 0.4467 - val_acc: 0.8108\n"
     ]
    }
   ],
   "source": [
    "checkpoint = ModelCheckpoint('./training/model-{epoch:03d}.model',monitor='val_loss',verbose=0,save_best_only=True,mode='auto')\n",
    "history=model.fit(train_data,train_target,epochs=20,callbacks=[checkpoint],validation_split=0.2)"
   ]
  },
  {
   "cell_type": "code",
   "execution_count": 61,
   "metadata": {},
   "outputs": [],
   "source": [
    "from keras.models import load_model\n",
    "import cv2\n",
    "import numpy as np"
   ]
  },
  {
   "cell_type": "code",
   "execution_count": 62,
   "metadata": {},
   "outputs": [],
   "source": [
    "model = load_model('./training/model-007.model')\n",
    "\n",
    "face_clsfr=cv2.CascadeClassifier('haarcascade_frontalface_default.xml')\n",
    "\n",
    "cap=cv2.VideoCapture(0)\n",
    "\n",
    "labels_dict={0:'Male',1:'Female'}\n",
    "color_dict={0:(0,0,255),1:(0,255,0)}"
   ]
  },
  {
   "cell_type": "code",
   "execution_count": 63,
   "metadata": {},
   "outputs": [],
   "source": [
    "while(True):\n",
    "\n",
    "    ret,img=cap.read()\n",
    "    gray=cv2.cvtColor(img,cv2.COLOR_BGR2GRAY)\n",
    "    faces=face_clsfr.detectMultiScale(gray,1.3,3)  \n",
    "\n",
    "    for (x,y,w,h) in faces:\n",
    "    \n",
    "        face_img=gray[y:y+w,x:x+w]\n",
    "        resized=cv2.resize(face_img,(32,32))\n",
    "        normalized=resized/255.0\n",
    "        reshaped=np.reshape(normalized,(1,32,32,1))\n",
    "        result=model.predict(reshaped)\n",
    "\n",
    "        label=np.argmax(result,axis=1)[0]\n",
    "      \n",
    "        cv2.rectangle(img,(x,y),(x+w,y+h),color_dict[label],2)\n",
    "        cv2.rectangle(img,(x,y-40),(x+w,y),color_dict[label],-1)\n",
    "        cv2.putText(img, labels_dict[label], (x, y-10),cv2.FONT_HERSHEY_SIMPLEX,0.8,(255,255,255),2)\n",
    "        \n",
    "        \n",
    "    cv2.imshow('Result',img)\n",
    "    k=cv2.waitKey(1)\n",
    "    \n",
    "    if k==ord(\"q\"):\n",
    "        break\n",
    "        \n",
    "cv2.destroyAllWindows()\n",
    "cap.release()"
   ]
  },
  {
   "cell_type": "code",
   "execution_count": null,
   "metadata": {},
   "outputs": [],
   "source": []
  },
  {
   "cell_type": "code",
   "execution_count": 38,
   "metadata": {},
   "outputs": [],
   "source": []
  },
  {
   "cell_type": "code",
   "execution_count": null,
   "metadata": {},
   "outputs": [],
   "source": [
    "\n"
   ]
  },
  {
   "cell_type": "code",
   "execution_count": null,
   "metadata": {},
   "outputs": [],
   "source": []
  }
 ],
 "metadata": {
  "kernelspec": {
   "display_name": "Python 3",
   "language": "python",
   "name": "python3"
  },
  "language_info": {
   "codemirror_mode": {
    "name": "ipython",
    "version": 3
   },
   "file_extension": ".py",
   "mimetype": "text/x-python",
   "name": "python",
   "nbconvert_exporter": "python",
   "pygments_lexer": "ipython3",
   "version": "3.6.4"
  }
 },
 "nbformat": 4,
 "nbformat_minor": 4
}
